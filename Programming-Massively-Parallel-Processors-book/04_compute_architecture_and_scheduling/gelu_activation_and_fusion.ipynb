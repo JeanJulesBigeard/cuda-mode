{
 "cells": [
  {
   "cell_type": "code",
   "execution_count": null,
   "id": "84a0774f-204d-44dd-81d7-be7e76ef8a4f",
   "metadata": {},
   "outputs": [],
   "source": [
    "## !pip install ninja\n",
    "!sudo apt update\n",
    "!sudo apt install g++-11 -y\n",
    "!sudo apt install ccache -y"
   ]
  },
  {
   "cell_type": "code",
   "execution_count": 3,
   "id": "63b545e7",
   "metadata": {},
   "outputs": [],
   "source": [
    "import torch\n",
    "import torch.utils.cpp_extension\n",
    "import os\n",
    "os.environ['CXX'] = '/usr/lib/ccache/g++-11'\n",
    "os.environ['CC'] = '/usr/lib/ccache/gcc-11'"
   ]
  },
  {
   "cell_type": "code",
   "execution_count": 4,
   "id": "288de6fd",
   "metadata": {},
   "outputs": [
    {
     "name": "stderr",
     "output_type": "stream",
     "text": [
      "Using /home/doublej/.cache/torch_extensions/py312_cu121 as PyTorch extensions root...\n",
      "Creating extension directory /home/doublej/.cache/torch_extensions/py312_cu121/test_ext...\n",
      "Detected CUDA files, patching ldflags\n",
      "Emitting ninja build file /home/doublej/.cache/torch_extensions/py312_cu121/test_ext/build.ninja...\n",
      "/home/doublej/miniconda3/lib/python3.12/site-packages/torch/utils/cpp_extension.py:1966: UserWarning: TORCH_CUDA_ARCH_LIST is not set, all archs for visible cards are included for compilation. \n",
      "If this is not desired, please set os.environ['TORCH_CUDA_ARCH_LIST'].\n",
      "  warnings.warn(\n",
      "Building extension module test_ext...\n",
      "Allowing ninja to set a default number of workers... (overridable by setting the environment variable MAX_JOBS=N)\n"
     ]
    },
    {
     "name": "stdout",
     "output_type": "stream",
     "text": [
      "[1/3] /usr/lib/ccache/g++-11 -MMD -MF main.o.d -DTORCH_EXTENSION_NAME=test_ext -DTORCH_API_INCLUDE_EXTENSION_H -DPYBIND11_COMPILER_TYPE=\\\"_gcc\\\" -DPYBIND11_STDLIB=\\\"_libstdcpp\\\" -DPYBIND11_BUILD_ABI=\\\"_cxxabi1011\\\" -isystem /home/doublej/miniconda3/lib/python3.12/site-packages/torch/include -isystem /home/doublej/miniconda3/lib/python3.12/site-packages/torch/include/torch/csrc/api/include -isystem /home/doublej/miniconda3/lib/python3.12/site-packages/torch/include/TH -isystem /home/doublej/miniconda3/lib/python3.12/site-packages/torch/include/THC -isystem /home/doublej/miniconda3/include -isystem /home/doublej/miniconda3/include/python3.12 -D_GLIBCXX_USE_CXX11_ABI=0 -fPIC -std=c++17 -c /home/doublej/.cache/torch_extensions/py312_cu121/test_ext/main.cpp -o main.o \n",
      "[2/3] /home/doublej/miniconda3/bin/nvcc --generate-dependencies-with-compile --dependency-output cuda.cuda.o.d -ccbin /usr/lib/ccache/gcc-11 -DTORCH_EXTENSION_NAME=test_ext -DTORCH_API_INCLUDE_EXTENSION_H -DPYBIND11_COMPILER_TYPE=\\\"_gcc\\\" -DPYBIND11_STDLIB=\\\"_libstdcpp\\\" -DPYBIND11_BUILD_ABI=\\\"_cxxabi1011\\\" -isystem /home/doublej/miniconda3/lib/python3.12/site-packages/torch/include -isystem /home/doublej/miniconda3/lib/python3.12/site-packages/torch/include/torch/csrc/api/include -isystem /home/doublej/miniconda3/lib/python3.12/site-packages/torch/include/TH -isystem /home/doublej/miniconda3/lib/python3.12/site-packages/torch/include/THC -isystem /home/doublej/miniconda3/include -isystem /home/doublej/miniconda3/include/python3.12 -D_GLIBCXX_USE_CXX11_ABI=0 -D__CUDA_NO_HALF_OPERATORS__ -D__CUDA_NO_HALF_CONVERSIONS__ -D__CUDA_NO_BFLOAT16_CONVERSIONS__ -D__CUDA_NO_HALF2_OPERATORS__ --expt-relaxed-constexpr -gencode=arch=compute_75,code=compute_75 -gencode=arch=compute_75,code=sm_75 --compiler-options '-fPIC' --ptxas-options=-v -std=c++17 -c /home/doublej/.cache/torch_extensions/py312_cu121/test_ext/cuda.cu -o cuda.cuda.o \n",
      "ptxas info    : 1 bytes gmem\n",
      "ptxas info    : Compiling entry function '_Z23rgb_to_grayscale_kernelPhS_i' for 'sm_75'\n",
      "ptxas info    : Function properties for _Z23rgb_to_grayscale_kernelPhS_i\n",
      "    0 bytes stack frame, 0 bytes spill stores, 0 bytes spill loads\n",
      "ptxas info    : Used 16 registers, 372 bytes cmem[0]\n",
      "[3/3] /usr/lib/ccache/g++-11 main.o cuda.cuda.o -shared -L/home/doublej/miniconda3/lib/python3.12/site-packages/torch/lib -lc10 -lc10_cuda -ltorch_cpu -ltorch_cuda -ltorch -ltorch_python -L/home/doublej/miniconda3/lib -lcudart -o test_ext.so\n"
     ]
    },
    {
     "name": "stderr",
     "output_type": "stream",
     "text": [
      "Loading extension module test_ext...\n"
     ]
    },
    {
     "name": "stdout",
     "output_type": "stream",
     "text": [
      "88.4357014 µs\n"
     ]
    },
    {
     "name": "stderr",
     "output_type": "stream",
     "text": [
      "/home/doublej/miniconda3/lib/python3.12/site-packages/torch/autograd/profiler.py:215: UserWarning: The attribute `use_cuda` will be deprecated soon, please use ``use_device = 'cuda'`` instead.\n",
      "  warn(\n"
     ]
    },
    {
     "name": "stdout",
     "output_type": "stream",
     "text": [
      "-------------------------------------------------------  ------------  ------------  ------------  ------------  ------------  ------------  ------------  ------------  ------------  ------------  \n",
      "                                                   Name    Self CPU %      Self CPU   CPU total %     CPU total  CPU time avg     Self CUDA   Self CUDA %    CUDA total  CUDA time avg    # of Calls  \n",
      "-------------------------------------------------------  ------------  ------------  ------------  ------------  ------------  ------------  ------------  ------------  ------------  ------------  \n",
      "                                       cudaLaunchKernel         6.50%      55.098ms         6.50%      55.098ms       5.510us       0.000us         0.00%       0.000us       0.000us         10000  \n",
      "rgb_to_grayscale_kernel(unsigned char*, unsigned cha...         0.00%       0.000us         0.00%       0.000us       0.000us     872.688ms       100.00%     872.688ms      87.269us         10000  \n",
      "                                  cudaDeviceSynchronize        93.50%     792.737ms        93.50%     792.737ms      79.266us       0.000us         0.00%       0.000us       0.000us         10001  \n",
      "-------------------------------------------------------  ------------  ------------  ------------  ------------  ------------  ------------  ------------  ------------  ------------  ------------  \n",
      "Self CPU time total: 847.835ms\n",
      "Self CUDA time total: 872.688ms\n",
      "\n"
     ]
    }
   ],
   "source": [
    "\n",
    "# based on Jeremy's Lecture 3 notebook\n",
    "cuda_begin = r'''\n",
    "#include <torch/extension.h>\n",
    "#include <stdio.h>\n",
    "#include <c10/cuda/CUDAException.h>\n",
    "\n",
    "#define CHECK_CUDA(x) TORCH_CHECK(x.device().is_cuda(), #x \" must be a CUDA tensor\")\n",
    "#define CHECK_CONTIGUOUS(x) TORCH_CHECK(x.is_contiguous(), #x \" must be contiguous\")\n",
    "#define CHECK_INPUT(x) CHECK_CUDA(x); CHECK_CONTIGUOUS(x)\n",
    "\n",
    "inline unsigned int cdiv(unsigned int a, unsigned int b) { return (a + b - 1) / b;}\n",
    "'''\n",
    "\n",
    "cuda_src = cuda_begin + r'''\n",
    "__global__ void rgb_to_grayscale_kernel(unsigned char* out, unsigned char* in, int n) {\n",
    "    int i = blockIdx.x*blockDim.x + threadIdx.x;\n",
    "    if (i >= n) return;\n",
    "    out[i] = 0.2989f*in[i] + 0.5870f*in[i+n] + 0.1140f*in[i+2*n];  // fix with f found by Andreas...\n",
    "}\n",
    "\n",
    "torch::Tensor rgb_to_grayscale_out(torch::Tensor output, const torch::Tensor& input) {\n",
    "    CHECK_INPUT(input);\n",
    "    int h = input.size(1);\n",
    "    int w = input.size(2);\n",
    "    TORCH_CHECK((h == output.size(0)) || (w == output.size(1)) || (output.device() == input.device())\n",
    "                || (output.scalar_type() == input.scalar_type()));\n",
    "    int threads = 256;\n",
    "    rgb_to_grayscale_kernel<<<cdiv(w*h,threads), threads>>>(\n",
    "        output.data_ptr<unsigned char>(), input.data_ptr<unsigned char>(), w*h);\n",
    "    C10_CUDA_KERNEL_LAUNCH_CHECK();\n",
    "    return output;\n",
    "}\n",
    "\n",
    "torch::Tensor rgb_to_grayscale(const torch::Tensor& input) {\n",
    "    CHECK_INPUT(input);\n",
    "    int h = input.size(1);\n",
    "    int w = input.size(2);\n",
    "    auto output = torch::empty({h,w}, input.options());\n",
    "    rgb_to_grayscale_out(output, input);\n",
    "    return output;\n",
    "}\n",
    "'''\n",
    "\n",
    "cpp_src = \"\"\"\n",
    "torch::Tensor rgb_to_grayscale(const torch::Tensor& input);\n",
    "torch::Tensor rgb_to_grayscale_out(torch::Tensor outpuit, const torch::Tensor& input);\n",
    "\"\"\"\n",
    "\n",
    "import os\n",
    "os.environ['CXX'] = '/usr/lib/ccache/g++-11'\n",
    "os.environ['CC'] = '/usr/lib/ccache/gcc-11'\n",
    "\n",
    "module = torch.utils.cpp_extension.load_inline(\n",
    "    \"test_ext\", cpp_src, cuda_src, \n",
    "    functions=['rgb_to_grayscale', 'rgb_to_grayscale_out'], extra_cuda_cflags=['--ptxas-options=-v'], verbose=True)\n",
    "\n",
    "\n",
    "\n",
    "n = 2048\n",
    "t = torch.randint(0, 256, (3, n, n), dtype=torch.uint8, device=\"cuda\")\n",
    "out = module.rgb_to_grayscale(t); torch.cuda.synchronize()\n",
    "\n",
    "import time\n",
    "t0 = time.perf_counter_ns()\n",
    "for i in range(10_000):\n",
    "    module.rgb_to_grayscale_out(out, t)\n",
    "torch.cuda.synchronize()\n",
    "t1 = time.perf_counter_ns()\n",
    "\n",
    "print((t1-t0) / 10_000 / 1_000, \"µs\") \n",
    "\n",
    "\n",
    "with torch.profiler.profile() as prof:\n",
    "    for i in range(10_000):\n",
    "        module.rgb_to_grayscale_out(out, t)\n",
    "        torch.cuda.synchronize()\n",
    "\n",
    "print(prof.key_averages().table())\n"
   ]
  },
  {
   "cell_type": "markdown",
   "id": "442400bd",
   "metadata": {},
   "source": [
    "# Approximate gelu as a fusion example"
   ]
  },
  {
   "cell_type": "code",
   "execution_count": 5,
   "id": "a1c8c558",
   "metadata": {},
   "outputs": [],
   "source": [
    "# as per the pytorch doc, implemented manually\n",
    "def gelu(x):\n",
    "    return 0.5 * x * (1+ torch.tanh((2/torch.pi)**0.5 * (x+0.044715 * x**3)))\n",
    "\n",
    "x = torch.randn(1024, 1024, device=\"cuda\")"
   ]
  },
  {
   "cell_type": "code",
   "execution_count": 6,
   "id": "f0733f1d",
   "metadata": {},
   "outputs": [
    {
     "data": {
      "text/plain": [
       "tensor([[0., 0., 0.,  ..., 0., 0., 0.],\n",
       "        [0., 0., 0.,  ..., 0., 0., 0.],\n",
       "        [0., 0., 0.,  ..., 0., 0., 0.],\n",
       "        ...,\n",
       "        [0., 0., 0.,  ..., 0., 0., 0.],\n",
       "        [0., 0., 0.,  ..., 0., 0., 0.],\n",
       "        [0., 0., 0.,  ..., 0., 0., 0.]], device='cuda:0')"
      ]
     },
     "execution_count": 6,
     "metadata": {},
     "output_type": "execute_result"
    }
   ],
   "source": [
    "gelu(x) - torch.nn.functional.gelu(x, approximate='tanh')"
   ]
  },
  {
   "cell_type": "code",
   "execution_count": 7,
   "id": "d782da2c",
   "metadata": {},
   "outputs": [
    {
     "name": "stdout",
     "output_type": "stream",
     "text": [
      "255 µs ± 2.01 µs per loop (mean ± std. dev. of 7 runs, 1,000 loops each)\n",
      "40.5 µs ± 1.41 µs per loop (mean ± std. dev. of 7 runs, 10,000 loops each)\n"
     ]
    }
   ],
   "source": [
    "%timeit gelu(x); torch.cuda.synchronize()\n",
    "%timeit torch.nn.functional.gelu(x, approximate='tanh'); torch.cuda.synchronize()"
   ]
  },
  {
   "cell_type": "code",
   "execution_count": 9,
   "id": "7287b076-ad74-4b78-9c21-e9fb7ef9c753",
   "metadata": {},
   "outputs": [
    {
     "name": "stdout",
     "output_type": "stream",
     "text": [
      "240 µs ± 132 ns per loop (mean ± std. dev. of 7 runs, 1,000 loops each)\n",
      "-------------------------------------------------------  ------------  ------------  ------------  ------------  ------------  ------------  ------------  ------------  ------------  ------------  \n",
      "                                                   Name    Self CPU %      Self CPU   CPU total %     CPU total  CPU time avg     Self CUDA   Self CUDA %    CUDA total  CUDA time avg    # of Calls  \n",
      "-------------------------------------------------------  ------------  ------------  ------------  ------------  ------------  ------------  ------------  ------------  ------------  ------------  \n",
      "                                              aten::mul        15.90%     260.542ms        43.73%     716.837ms      22.095us     950.640ms        49.86%     950.640ms      29.301us         32444  \n",
      "                                       cudaLaunchKernel        65.57%        1.075s        65.57%        1.075s      16.564us       0.000us         0.00%       0.000us       0.000us         64888  \n",
      "                                              aten::pow         4.82%      78.982ms        16.16%     264.884ms      32.657us     214.466ms        11.25%     214.466ms      26.441us          8111  \n",
      "                                      aten::result_type         0.12%       1.921ms         0.12%       1.921ms       0.237us       0.000us         0.00%       0.000us       0.000us          8111  \n",
      "void at::native::vectorized_elementwise_kernel<4, at...         0.00%       0.000us         0.00%       0.000us       0.000us     638.955ms        33.51%     638.955ms      26.259us         24333  \n",
      "                                               aten::to         0.08%       1.352ms         0.08%       1.352ms       0.167us       0.000us         0.00%       0.000us       0.000us          8111  \n",
      "void at::native::vectorized_elementwise_kernel<4, at...         0.00%       0.000us         0.00%       0.000us       0.000us     214.466ms        11.25%     214.466ms      26.441us          8111  \n",
      "                                              aten::add         7.92%     129.810ms        21.73%     356.240ms      21.960us     527.515ms        27.67%     527.515ms      32.518us         16222  \n",
      "void at::native::vectorized_elementwise_kernel<4, at...         0.00%       0.000us         0.00%       0.000us       0.000us     313.349ms        16.43%     313.349ms      38.633us          8111  \n",
      "                                             aten::tanh         3.73%      61.154ms        16.51%     270.595ms      33.361us     214.155ms        11.23%     214.155ms      26.403us          8111  \n",
      "void at::native::vectorized_elementwise_kernel<4, at...         0.00%       0.000us         0.00%       0.000us       0.000us     214.155ms        11.23%     214.155ms      26.403us          8111  \n",
      "void at::native::vectorized_elementwise_kernel<4, at...         0.00%       0.000us         0.00%       0.000us       0.000us     214.166ms        11.23%     214.166ms      26.404us          8111  \n",
      "void at::native::vectorized_elementwise_kernel<4, at...         0.00%       0.000us         0.00%       0.000us       0.000us     311.686ms        16.35%     311.686ms      38.428us          8111  \n",
      "                                  cudaDeviceSynchronize         1.86%      30.502ms         1.86%      30.502ms      30.502ms       0.000us         0.00%       0.000us       0.000us             1  \n",
      "-------------------------------------------------------  ------------  ------------  ------------  ------------  ------------  ------------  ------------  ------------  ------------  ------------  \n",
      "Self CPU time total: 1.639s\n",
      "Self CUDA time total: 1.907s\n",
      "\n"
     ]
    }
   ],
   "source": [
    "with torch.profiler.profile() as prof:\n",
    "    %timeit gelu(x)\n",
    "print(prof.key_averages().table())"
   ]
  },
  {
   "cell_type": "markdown",
   "id": "b5a9f0de",
   "metadata": {},
   "source": [
    "## Kind of slow. Why?"
   ]
  },
  {
   "cell_type": "code",
   "execution_count": 10,
   "id": "8a54e12d",
   "metadata": {},
   "outputs": [
    {
     "name": "stderr",
     "output_type": "stream",
     "text": [
      "Using /home/doublej/.cache/torch_extensions/py312_cu121 as PyTorch extensions root...\n",
      "Creating extension directory /home/doublej/.cache/torch_extensions/py312_cu121/test_ext_gelu...\n",
      "Detected CUDA files, patching ldflags\n",
      "Emitting ninja build file /home/doublej/.cache/torch_extensions/py312_cu121/test_ext_gelu/build.ninja...\n",
      "/home/doublej/miniconda3/lib/python3.12/site-packages/torch/utils/cpp_extension.py:1966: UserWarning: TORCH_CUDA_ARCH_LIST is not set, all archs for visible cards are included for compilation. \n",
      "If this is not desired, please set os.environ['TORCH_CUDA_ARCH_LIST'].\n",
      "  warnings.warn(\n",
      "Building extension module test_ext_gelu...\n",
      "Allowing ninja to set a default number of workers... (overridable by setting the environment variable MAX_JOBS=N)\n"
     ]
    },
    {
     "name": "stdout",
     "output_type": "stream",
     "text": [
      "[1/3] /usr/lib/ccache/g++-11 -MMD -MF main.o.d -DTORCH_EXTENSION_NAME=test_ext_gelu -DTORCH_API_INCLUDE_EXTENSION_H -DPYBIND11_COMPILER_TYPE=\\\"_gcc\\\" -DPYBIND11_STDLIB=\\\"_libstdcpp\\\" -DPYBIND11_BUILD_ABI=\\\"_cxxabi1011\\\" -isystem /home/doublej/miniconda3/lib/python3.12/site-packages/torch/include -isystem /home/doublej/miniconda3/lib/python3.12/site-packages/torch/include/torch/csrc/api/include -isystem /home/doublej/miniconda3/lib/python3.12/site-packages/torch/include/TH -isystem /home/doublej/miniconda3/lib/python3.12/site-packages/torch/include/THC -isystem /home/doublej/miniconda3/include -isystem /home/doublej/miniconda3/include/python3.12 -D_GLIBCXX_USE_CXX11_ABI=0 -fPIC -std=c++17 -c /home/doublej/.cache/torch_extensions/py312_cu121/test_ext_gelu/main.cpp -o main.o \n",
      "[2/3] /home/doublej/miniconda3/bin/nvcc --generate-dependencies-with-compile --dependency-output cuda.cuda.o.d -ccbin /usr/lib/ccache/gcc-11 -DTORCH_EXTENSION_NAME=test_ext_gelu -DTORCH_API_INCLUDE_EXTENSION_H -DPYBIND11_COMPILER_TYPE=\\\"_gcc\\\" -DPYBIND11_STDLIB=\\\"_libstdcpp\\\" -DPYBIND11_BUILD_ABI=\\\"_cxxabi1011\\\" -isystem /home/doublej/miniconda3/lib/python3.12/site-packages/torch/include -isystem /home/doublej/miniconda3/lib/python3.12/site-packages/torch/include/torch/csrc/api/include -isystem /home/doublej/miniconda3/lib/python3.12/site-packages/torch/include/TH -isystem /home/doublej/miniconda3/lib/python3.12/site-packages/torch/include/THC -isystem /home/doublej/miniconda3/include -isystem /home/doublej/miniconda3/include/python3.12 -D_GLIBCXX_USE_CXX11_ABI=0 -D__CUDA_NO_HALF_OPERATORS__ -D__CUDA_NO_HALF_CONVERSIONS__ -D__CUDA_NO_BFLOAT16_CONVERSIONS__ -D__CUDA_NO_HALF2_OPERATORS__ --expt-relaxed-constexpr -gencode=arch=compute_75,code=compute_75 -gencode=arch=compute_75,code=sm_75 --compiler-options '-fPIC' --ptxas-options=-v -std=c++17 -c /home/doublej/.cache/torch_extensions/py312_cu121/test_ext_gelu/cuda.cu -o cuda.cuda.o \n",
      "ptxas info    : 1 bytes gmem\n",
      "ptxas info    : Compiling entry function '_Z14my_gelu_kernelPfS_i' for 'sm_75'\n",
      "ptxas info    : Function properties for _Z14my_gelu_kernelPfS_i\n",
      "    0 bytes stack frame, 0 bytes spill stores, 0 bytes spill loads\n",
      "ptxas info    : Used 12 registers, 372 bytes cmem[0]\n",
      "[3/3] /usr/lib/ccache/g++-11 main.o cuda.cuda.o -shared -L/home/doublej/miniconda3/lib/python3.12/site-packages/torch/lib -lc10 -lc10_cuda -ltorch_cpu -ltorch_cuda -ltorch -ltorch_python -L/home/doublej/miniconda3/lib -lcudart -o test_ext_gelu.so\n"
     ]
    },
    {
     "name": "stderr",
     "output_type": "stream",
     "text": [
      "Loading extension module test_ext_gelu...\n"
     ]
    }
   ],
   "source": [
    "cuda_src = cuda_begin + r'''\n",
    "__global__ void my_gelu_kernel(float* out, float* inp, int n) {\n",
    "    int i = blockIdx.x*blockDim.x + threadIdx.x;\n",
    "    if (i >= n) return;\n",
    "    float x = inp[i];\n",
    "    out[i] = 0.5f * x * (1.0f+ tanhf(sqrtf(2.0f/3.141592653589793f) * (x+0.044715f * (x*x*x))));\n",
    "}\n",
    "\n",
    "torch::Tensor my_gelu_out(torch::Tensor output, const torch::Tensor& inp) {\n",
    "    CHECK_INPUT(inp);\n",
    "    int n = inp.numel();\n",
    "    TORCH_CHECK((output.sizes() == inp.sizes())  || (output.device() == inp.device())\n",
    "                || (output.scalar_type() == inp.scalar_type()));\n",
    "    int threads = 256;\n",
    "    my_gelu_kernel<<<cdiv(n, threads), threads>>>(\n",
    "        output.data_ptr<float>(), inp.data_ptr<float>(), n);\n",
    "    C10_CUDA_KERNEL_LAUNCH_CHECK();\n",
    "    return output;\n",
    "}\n",
    "\n",
    "torch::Tensor my_gelu(const torch::Tensor& inp) {\n",
    "    CHECK_INPUT(inp);\n",
    "    auto output = torch::empty_like(inp);\n",
    "    my_gelu_out(output, inp);\n",
    "    return output;\n",
    "}\n",
    "'''\n",
    "\n",
    "cpp_src = \"\"\"\n",
    "torch::Tensor my_gelu(const torch::Tensor& inp);\n",
    "torch::Tensor my_gelu_out(torch::Tensor output, const torch::Tensor& inp);\n",
    "\"\"\"\n",
    "\n",
    "import os\n",
    "os.environ['CXX'] = '/usr/lib/ccache/g++-11'\n",
    "os.environ['CC'] = '/usr/lib/ccache/gcc-11'\n",
    "\n",
    "gelu_module = torch.utils.cpp_extension.load_inline(\n",
    "    \"test_ext_gelu\", cpp_src, cuda_src, \n",
    "    functions=['my_gelu', 'my_gelu_out'], extra_cuda_cflags=['--ptxas-options=-v'], verbose=True)"
   ]
  },
  {
   "cell_type": "code",
   "execution_count": 11,
   "id": "ec3f1b5f",
   "metadata": {},
   "outputs": [
    {
     "data": {
      "text/plain": [
       "tensor(2.3842e-07, device='cuda:0')"
      ]
     },
     "execution_count": 11,
     "metadata": {},
     "output_type": "execute_result"
    }
   ],
   "source": [
    "(gelu_module.my_gelu(x) - gelu(x)).abs().max()"
   ]
  },
  {
   "cell_type": "code",
   "execution_count": 12,
   "id": "e3427d1c",
   "metadata": {},
   "outputs": [
    {
     "name": "stdout",
     "output_type": "stream",
     "text": [
      "44 µs ± 389 ns per loop (mean ± std. dev. of 7 runs, 10,000 loops each)\n"
     ]
    }
   ],
   "source": [
    "%timeit gelu_module.my_gelu(x); torch.cuda.synchronize()"
   ]
  },
  {
   "cell_type": "code",
   "execution_count": null,
   "id": "50a78320",
   "metadata": {},
   "outputs": [],
   "source": []
  },
  {
   "cell_type": "code",
   "execution_count": null,
   "id": "659c02af",
   "metadata": {},
   "outputs": [],
   "source": []
  }
 ],
 "metadata": {
  "kernelspec": {
   "display_name": "Python 3 (ipykernel)",
   "language": "python",
   "name": "python3"
  },
  "language_info": {
   "codemirror_mode": {
    "name": "ipython",
    "version": 3
   },
   "file_extension": ".py",
   "mimetype": "text/x-python",
   "name": "python",
   "nbconvert_exporter": "python",
   "pygments_lexer": "ipython3",
   "version": "3.12.2"
  }
 },
 "nbformat": 4,
 "nbformat_minor": 5
}
